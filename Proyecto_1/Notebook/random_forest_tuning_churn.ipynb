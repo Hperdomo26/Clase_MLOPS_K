{
 "cells": [
  {
   "cell_type": "markdown",
   "id": "4ae37b5f",
   "metadata": {},
   "source": [
    "# 🎯 Tuning de Random Forest para Churn con Desbalanceo de Clases"
   ]
  },
  {
   "cell_type": "code",
   "execution_count": null,
   "id": "1d136f4a",
   "metadata": {},
   "outputs": [],
   "source": [
    "!pip install scikit-learn imbalanced-learn scikit-optimize shap matplotlib seaborn pandas"
   ]
  },
  {
   "cell_type": "code",
   "execution_count": 3,
   "id": "4ef50852",
   "metadata": {},
   "outputs": [],
   "source": [
    "import pandas as pd\n",
    "import numpy as np\n",
    "import matplotlib.pyplot as plt\n",
    "import seaborn as sns\n",
    "from sklearn.ensemble import RandomForestClassifier\n",
    "from sklearn.model_selection import train_test_split, GridSearchCV, RandomizedSearchCV\n",
    "from sklearn.metrics import classification_report, roc_auc_score, confusion_matrix, roc_curve, auc, precision_recall_curve\n",
    "from imblearn.over_sampling import SMOTE\n",
    "from skopt import BayesSearchCV\n",
    "from skopt.space import Real, Integer, Categorical\n",
    "import shap\n",
    "import warnings\n",
    "warnings.filterwarnings('ignore')\n"
   ]
  },
  {
   "cell_type": "code",
   "execution_count": null,
   "id": "433d5dfe",
   "metadata": {},
   "outputs": [],
   "source": [
    "\n",
    "# Simular dataset churn\n",
    "df = pd.read_csv(\"churn_telco.csv\")  # Asegúrate de tener este archivo en tu entorno\n",
    "\n",
    "df = df.dropna()\n",
    "df = pd.get_dummies(df, drop_first=True)\n",
    "X = df.drop(\"churn\", axis=1)\n",
    "y = df[\"churn\"]\n",
    "\n",
    "print(f\"Porcentaje de churn positivo: {y.mean():.2%}\")\n",
    "X_train, X_test, y_train, y_test = train_test_split(X, y, test_size=0.3, random_state=42, stratify=y)\n"
   ]
  },
  {
   "cell_type": "code",
   "execution_count": 24,
   "id": "089ab116",
   "metadata": {},
   "outputs": [
    {
     "name": "stdout",
     "output_type": "stream",
     "text": [
      "🔄 Randomized Search iniciado...\n"
     ]
    },
    {
     "ename": "NameError",
     "evalue": "name 'X_train' is not defined",
     "output_type": "error",
     "traceback": [
      "\u001b[31m---------------------------------------------------------------------------\u001b[39m",
      "\u001b[31mNameError\u001b[39m                                 Traceback (most recent call last)",
      "\u001b[36mCell\u001b[39m\u001b[36m \u001b[39m\u001b[32mIn[24]\u001b[39m\u001b[32m, line 14\u001b[39m\n\u001b[32m      2\u001b[39m param_dist = {\n\u001b[32m      3\u001b[39m     \u001b[33m'\u001b[39m\u001b[33mn_estimators\u001b[39m\u001b[33m'\u001b[39m: [\u001b[32m100\u001b[39m, \u001b[32m200\u001b[39m, \u001b[32m300\u001b[39m],\n\u001b[32m      4\u001b[39m     \u001b[33m'\u001b[39m\u001b[33mmax_depth\u001b[39m\u001b[33m'\u001b[39m: [\u001b[32m10\u001b[39m, \u001b[32m20\u001b[39m, \u001b[32m30\u001b[39m, \u001b[38;5;28;01mNone\u001b[39;00m],\n\u001b[32m   (...)\u001b[39m\u001b[32m      9\u001b[39m     \u001b[33m'\u001b[39m\u001b[33mbootstrap\u001b[39m\u001b[33m'\u001b[39m: [\u001b[38;5;28;01mTrue\u001b[39;00m, \u001b[38;5;28;01mFalse\u001b[39;00m]\n\u001b[32m     10\u001b[39m }\n\u001b[32m     12\u001b[39m rscv = RandomizedSearchCV(RandomForestClassifier(random_state=\u001b[32m42\u001b[39m), param_distributions=param_dist,\n\u001b[32m     13\u001b[39m                           n_iter=\u001b[32m20\u001b[39m, cv=\u001b[32m3\u001b[39m, scoring=\u001b[33m'\u001b[39m\u001b[33mroc_auc\u001b[39m\u001b[33m'\u001b[39m, random_state=\u001b[32m42\u001b[39m, n_jobs=-\u001b[32m1\u001b[39m, verbose=\u001b[32m1\u001b[39m)\n\u001b[32m---> \u001b[39m\u001b[32m14\u001b[39m rscv.fit(\u001b[43mX_train\u001b[49m, y_train)\n\u001b[32m     16\u001b[39m \u001b[38;5;28mprint\u001b[39m(\u001b[33m\"\u001b[39m\u001b[33m🏁 Mejor configuración (Random Search):\u001b[39m\u001b[33m\"\u001b[39m, rscv.best_params_)\n\u001b[32m     17\u001b[39m \u001b[38;5;28mprint\u001b[39m(\u001b[33m\"\u001b[39m\u001b[33m🔍 AUC test:\u001b[39m\u001b[33m\"\u001b[39m, roc_auc_score(y_test, rscv.predict_proba(X_test)[:,\u001b[32m1\u001b[39m]))\n",
      "\u001b[31mNameError\u001b[39m: name 'X_train' is not defined"
     ]
    }
   ],
   "source": [
    "\n",
    "print('🔄 Randomized Search iniciado...')\n",
    "param_dist = {\n",
    "    'n_estimators': [100, 200, 300],\n",
    "    'max_depth': [10, 20, 30, None],\n",
    "    'min_samples_split': [2, 5, 10],\n",
    "    'min_samples_leaf': [1, 2, 4],\n",
    "    'max_features': ['sqrt', 'log2'],\n",
    "    'class_weight': ['balanced', 'balanced_subsample'],\n",
    "    'bootstrap': [True, False]\n",
    "}\n",
    "\n",
    "rscv = RandomizedSearchCV(RandomForestClassifier(random_state=42), param_distributions=param_dist,\n",
    "                          n_iter=20, cv=3, scoring='roc_auc', random_state=42, n_jobs=-1, verbose=1)\n",
    "rscv.fit(X_train, y_train)\n",
    "\n",
    "print(\"🏁 Mejor configuración (Random Search):\", rscv.best_params_)\n",
    "print(\"🔍 AUC test:\", roc_auc_score(y_test, rscv.predict_proba(X_test)[:,1]))\n",
    "print(classification_report(y_test, rscv.predict(X_test)))\n"
   ]
  },
  {
   "cell_type": "code",
   "execution_count": null,
   "id": "f7bd649a",
   "metadata": {},
   "outputs": [],
   "source": [
    "\n",
    "print('🔄 Grid Search iniciado...')\n",
    "param_grid = {\n",
    "    'n_estimators': [100, 200],\n",
    "    'max_depth': [10, 20],\n",
    "    'class_weight': ['balanced'],\n",
    "    'min_samples_split': [2, 5],\n",
    "    'min_samples_leaf': [1, 2]\n",
    "}\n",
    "\n",
    "gscv = GridSearchCV(RandomForestClassifier(random_state=42), param_grid=param_grid,\n",
    "                    scoring='roc_auc', cv=3, n_jobs=-1, verbose=1)\n",
    "gscv.fit(X_train, y_train)\n",
    "\n",
    "print(\"🏁 Mejor configuración (Grid Search):\", gscv.best_params_)\n",
    "print(\"🔍 AUC test:\", roc_auc_score(y_test, gscv.predict_proba(X_test)[:,1]))\n",
    "print(classification_report(y_test, gscv.predict(X_test)))\n"
   ]
  },
  {
   "cell_type": "code",
   "execution_count": null,
   "id": "cb0ab829",
   "metadata": {},
   "outputs": [],
   "source": [
    "\n",
    "print('🔄 Bayesian Optimization iniciado...')\n",
    "opt_space = {\n",
    "    'n_estimators': Integer(100, 300),\n",
    "    'max_depth': Integer(5, 30),\n",
    "    'min_samples_split': Integer(2, 10),\n",
    "    'min_samples_leaf': Integer(1, 5),\n",
    "    'max_features': Categorical(['sqrt', 'log2']),\n",
    "    'class_weight': Categorical(['balanced', 'balanced_subsample']),\n",
    "    'bootstrap': Categorical([True, False])\n",
    "}\n",
    "\n",
    "bsearch = BayesSearchCV(RandomForestClassifier(random_state=42),\n",
    "                        search_spaces=opt_space,\n",
    "                        n_iter=20,\n",
    "                        scoring='roc_auc',\n",
    "                        cv=3,\n",
    "                        n_jobs=-1,\n",
    "                        verbose=1,\n",
    "                        random_state=42)\n",
    "bsearch.fit(X_train, y_train)\n",
    "\n",
    "print(\"🏁 Mejor configuración (Bayesian Search):\", bsearch.best_params_)\n",
    "print(\"🔍 AUC test:\", roc_auc_score(y_test, bsearch.predict_proba(X_test)[:,1]))\n",
    "print(classification_report(y_test, bsearch.predict(X_test)))\n"
   ]
  },
  {
   "cell_type": "code",
   "execution_count": null,
   "id": "632dd049",
   "metadata": {},
   "outputs": [],
   "source": [
    "\n",
    "print('🔁 Aplicando SMOTE...')\n",
    "smote = SMOTE(random_state=42)\n",
    "X_train_sm, y_train_sm = smote.fit_resample(X_train, y_train)\n",
    "\n",
    "rf_sm = RandomForestClassifier(**rscv.best_params_, random_state=42)\n",
    "rf_sm.fit(X_train_sm, y_train_sm)\n",
    "\n",
    "print(\"✅ Resultados con SMOTE\")\n",
    "print(\"🔍 AUC test:\", roc_auc_score(y_test, rf_sm.predict_proba(X_test)[:,1]))\n",
    "print(classification_report(y_test, rf_sm.predict(X_test)))\n"
   ]
  },
  {
   "cell_type": "code",
   "execution_count": null,
   "id": "b930a0a9",
   "metadata": {},
   "outputs": [],
   "source": [
    "\n",
    "print('📊 Visualizaciones iniciadas...')\n",
    "def plot_model_performance(model, X_test, y_test, model_name=\"Modelo\"):\n",
    "    y_pred = model.predict(X_test)\n",
    "    y_scores = model.predict_proba(X_test)[:, 1]\n",
    "\n",
    "    cm = confusion_matrix(y_test, y_pred)\n",
    "    plt.figure(figsize=(5, 4))\n",
    "    sns.heatmap(cm, annot=True, fmt='d', cmap=\"Blues\")\n",
    "    plt.title(f\"{model_name} - Matriz de Confusión\")\n",
    "    plt.xlabel(\"Predicho\")\n",
    "    plt.ylabel(\"Real\")\n",
    "    plt.show()\n",
    "\n",
    "    fpr, tpr, _ = roc_curve(y_test, y_scores)\n",
    "    roc_auc = auc(fpr, tpr)\n",
    "    plt.figure(figsize=(6, 4))\n",
    "    plt.plot(fpr, tpr, label=f\"AUC = {roc_auc:.2f}\")\n",
    "    plt.plot([0, 1], [0, 1], linestyle='--')\n",
    "    plt.title(f\"{model_name} - Curva ROC\")\n",
    "    plt.xlabel(\"FPR\")\n",
    "    plt.ylabel(\"TPR\")\n",
    "    plt.legend()\n",
    "    plt.show()\n",
    "\n",
    "    precision, recall, _ = precision_recall_curve(y_test, y_scores)\n",
    "    plt.figure(figsize=(6, 4))\n",
    "    plt.plot(recall, precision)\n",
    "    plt.title(f\"{model_name} - Precision-Recall Curve\")\n",
    "    plt.xlabel(\"Recall\")\n",
    "    plt.ylabel(\"Precision\")\n",
    "    plt.show()\n",
    "\n",
    "def plot_feature_importance(model, feature_names, top_n=15, model_name=\"Modelo\"):\n",
    "    importances = model.feature_importances_\n",
    "    indices = np.argsort(importances)[-top_n:]\n",
    "    plt.figure(figsize=(8, 6))\n",
    "    plt.barh(range(len(indices)), importances[indices], align='center')\n",
    "    plt.yticks(range(len(indices)), [feature_names[i] for i in indices])\n",
    "    plt.xlabel(\"Importancia\")\n",
    "    plt.title(f\"{model_name} - Importancia de Variables\")\n",
    "    plt.show()\n",
    "\n",
    "plot_model_performance(rf_sm, X_test, y_test, model_name=\"Random Forest + SMOTE\")\n",
    "plot_feature_importance(rf_sm, X.columns, top_n=15, model_name=\"Random Forest + SMOTE\")\n"
   ]
  },
  {
   "cell_type": "code",
   "execution_count": null,
   "id": "69fc2f07",
   "metadata": {},
   "outputs": [],
   "source": [
    "\n",
    "print('🧠 Interpretabilidad con SHAP...')\n",
    "explainer = shap.Explainer(rf_sm, X_train, feature_names=X.columns)\n",
    "shap_values = explainer(X_test)\n",
    "\n",
    "shap.summary_plot(shap_values, X_test, plot_type=\"bar\", show=True)\n",
    "shap.summary_plot(shap_values, X_test, show=True)\n"
   ]
  }
 ],
 "metadata": {
  "kernelspec": {
   "display_name": ".env",
   "language": "python",
   "name": "python3"
  },
  "language_info": {
   "codemirror_mode": {
    "name": "ipython",
    "version": 3
   },
   "file_extension": ".py",
   "mimetype": "text/x-python",
   "name": "python",
   "nbconvert_exporter": "python",
   "pygments_lexer": "ipython3",
   "version": "3.11.4"
  }
 },
 "nbformat": 4,
 "nbformat_minor": 5
}
